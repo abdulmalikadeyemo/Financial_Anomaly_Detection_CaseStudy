{
 "cells": [
  {
   "cell_type": "markdown",
   "metadata": {},
   "source": [
    "# Analytical Approach - The Hypothesis"
   ]
  },
  {
   "cell_type": "markdown",
   "metadata": {},
   "source": [
    "- **Given the quality of the dataset provided and the amount of information available, the best approach to detecting anomalous transactions is to use a rule-based analysis**\n",
    "\n",
    "\n",
    "- **From the provided Data Dictionary, It states that the `BAT_NAME` column is an ID for a single journal posting, and all the transactions under a particular BAT_NAME ID must net to zero**\n",
    "\n",
    "\n",
    "- **Concretely, If the journal entries of a BAT_NAME ID is not balanced (i.e, does not net to zero), we can see that journal posting(entry) is anomalous or `not business as usual`**\n",
    "\n",
    "\n",
    "- **Hence, our approach is to sum all the `Amount` column entries that belongs to a particular `BAT_NAME` ID and extract all the Journal Posting (Transactions) whoose `Amount` does not net to zero**"
   ]
  },
  {
   "cell_type": "markdown",
   "metadata": {},
   "source": [
    "### Import important Libraries"
   ]
  },
  {
   "cell_type": "code",
   "execution_count": 18,
   "metadata": {},
   "outputs": [],
   "source": [
    "import pandas as pd\n",
    "import numpy as np\n",
    "import matplotlib.pyplot as plt"
   ]
  },
  {
   "cell_type": "markdown",
   "metadata": {},
   "source": [
    "### Read-In the Dataset and Select the Important Features"
   ]
  },
  {
   "cell_type": "code",
   "execution_count": 5,
   "metadata": {},
   "outputs": [],
   "source": [
    "# Set low_memory to False to ensure pandas use the right datatypes for each features\n",
    "data = pd.read_csv(\"JET_CSV_DATA/JET_CSV_DATA/JET_DATA_0.csv\", low_memory=False)"
   ]
  },
  {
   "cell_type": "code",
   "execution_count": 6,
   "metadata": {},
   "outputs": [],
   "source": [
    "# The list of important features\n",
    "features = ['GL account','Journal','Account No','BAT_NAME','JNL_LNE','Period','SOURCE_USER','POST_USER','Amount']"
   ]
  },
  {
   "cell_type": "code",
   "execution_count": 7,
   "metadata": {
    "scrolled": true
   },
   "outputs": [],
   "source": [
    "# Extract the important features using the features-list created above\n",
    "data = data[features]"
   ]
  },
  {
   "cell_type": "markdown",
   "metadata": {},
   "source": [
    "### Drop Missing Values and reset the index"
   ]
  },
  {
   "cell_type": "code",
   "execution_count": 8,
   "metadata": {},
   "outputs": [],
   "source": [
    "data = data.dropna().reset_index(drop=True)"
   ]
  },
  {
   "cell_type": "markdown",
   "metadata": {},
   "source": [
    "### Create a new dataframe that is grouped by the `BAT_NAME` column and perform addition operation on all the `Amount` column entries that fall under a particular `BAT_NAME` ID"
   ]
  },
  {
   "cell_type": "markdown",
   "metadata": {},
   "source": [
    "**Extract only the `BAT_NAME and Amount` column**"
   ]
  },
  {
   "cell_type": "code",
   "execution_count": 9,
   "metadata": {},
   "outputs": [],
   "source": [
    "new_data = data[['BAT_NAME','Amount']]"
   ]
  },
  {
   "cell_type": "markdown",
   "metadata": {},
   "source": [
    "**Group By the `BAT_NAME` and perfom addition operation on the `Amount` column**"
   ]
  },
  {
   "cell_type": "code",
   "execution_count": 10,
   "metadata": {},
   "outputs": [],
   "source": [
    "Amount_sum = new_data.groupby('BAT_NAME',as_index=False, sort=False).sum()"
   ]
  },
  {
   "cell_type": "code",
   "execution_count": 11,
   "metadata": {},
   "outputs": [
    {
     "data": {
      "text/html": [
       "<div>\n",
       "<style scoped>\n",
       "    .dataframe tbody tr th:only-of-type {\n",
       "        vertical-align: middle;\n",
       "    }\n",
       "\n",
       "    .dataframe tbody tr th {\n",
       "        vertical-align: top;\n",
       "    }\n",
       "\n",
       "    .dataframe thead th {\n",
       "        text-align: right;\n",
       "    }\n",
       "</style>\n",
       "<table border=\"1\" class=\"dataframe\">\n",
       "  <thead>\n",
       "    <tr style=\"text-align: right;\">\n",
       "      <th></th>\n",
       "      <th>BAT_NAME</th>\n",
       "      <th>Amount</th>\n",
       "    </tr>\n",
       "  </thead>\n",
       "  <tbody>\n",
       "    <tr>\n",
       "      <th>0</th>\n",
       "      <td>BAT_NAME 517750</td>\n",
       "      <td>0.000000e+00</td>\n",
       "    </tr>\n",
       "    <tr>\n",
       "      <th>1</th>\n",
       "      <td>BAT_NAME 514862</td>\n",
       "      <td>0.000000e+00</td>\n",
       "    </tr>\n",
       "    <tr>\n",
       "      <th>2</th>\n",
       "      <td>BAT_NAME 35108</td>\n",
       "      <td>-4.440892e-16</td>\n",
       "    </tr>\n",
       "    <tr>\n",
       "      <th>3</th>\n",
       "      <td>BAT_NAME 737556</td>\n",
       "      <td>0.000000e+00</td>\n",
       "    </tr>\n",
       "    <tr>\n",
       "      <th>4</th>\n",
       "      <td>BAT_NAME 735999</td>\n",
       "      <td>6.900000e-08</td>\n",
       "    </tr>\n",
       "  </tbody>\n",
       "</table>\n",
       "</div>"
      ],
      "text/plain": [
       "          BAT_NAME        Amount\n",
       "0  BAT_NAME 517750  0.000000e+00\n",
       "1  BAT_NAME 514862  0.000000e+00\n",
       "2   BAT_NAME 35108 -4.440892e-16\n",
       "3  BAT_NAME 737556  0.000000e+00\n",
       "4  BAT_NAME 735999  6.900000e-08"
      ]
     },
     "execution_count": 11,
     "metadata": {},
     "output_type": "execute_result"
    }
   ],
   "source": [
    "Amount_sum.head()"
   ]
  },
  {
   "cell_type": "markdown",
   "metadata": {},
   "source": [
    "### Using the `Amount_sum` dataframe, extract all data entries in `Amount` column that is not equal to zero (This indicates transactions that are not business as usual). Then use their corresponding `BAT_NAME` to get the full information about the transaction from the main dataset "
   ]
  },
  {
   "cell_type": "markdown",
   "metadata": {},
   "source": [
    "**Extract entries with Amount not equal to zero**"
   ]
  },
  {
   "cell_type": "code",
   "execution_count": 12,
   "metadata": {
    "scrolled": true
   },
   "outputs": [],
   "source": [
    "amount_not_zero = Amount_sum[Amount_sum['Amount']!=0]"
   ]
  },
  {
   "cell_type": "markdown",
   "metadata": {},
   "source": [
    "**extract the corresponding `BAT_NAME` and save in a list**"
   ]
  },
  {
   "cell_type": "code",
   "execution_count": 13,
   "metadata": {},
   "outputs": [],
   "source": [
    "BAT_NAME_LIST = list(amount_not_zero['BAT_NAME'])"
   ]
  },
  {
   "cell_type": "markdown",
   "metadata": {},
   "source": [
    "**use the `BAT_NAME_LIST` to get the full information about the transactions from the main dataset. Basically, These will be transactions whose journal entries does not sum to zero**"
   ]
  },
  {
   "cell_type": "code",
   "execution_count": 14,
   "metadata": {},
   "outputs": [
    {
     "data": {
      "text/html": [
       "<div>\n",
       "<style scoped>\n",
       "    .dataframe tbody tr th:only-of-type {\n",
       "        vertical-align: middle;\n",
       "    }\n",
       "\n",
       "    .dataframe tbody tr th {\n",
       "        vertical-align: top;\n",
       "    }\n",
       "\n",
       "    .dataframe thead th {\n",
       "        text-align: right;\n",
       "    }\n",
       "</style>\n",
       "<table border=\"1\" class=\"dataframe\">\n",
       "  <thead>\n",
       "    <tr style=\"text-align: right;\">\n",
       "      <th></th>\n",
       "      <th>GL account</th>\n",
       "      <th>Journal</th>\n",
       "      <th>Account No</th>\n",
       "      <th>BAT_NAME</th>\n",
       "      <th>JNL_LNE</th>\n",
       "      <th>Period</th>\n",
       "      <th>SOURCE_USER</th>\n",
       "      <th>POST_USER</th>\n",
       "      <th>Amount</th>\n",
       "    </tr>\n",
       "  </thead>\n",
       "  <tbody>\n",
       "    <tr>\n",
       "      <th>6</th>\n",
       "      <td>GL account 197</td>\n",
       "      <td>Journal 1</td>\n",
       "      <td>Account No 28428</td>\n",
       "      <td>BAT_NAME 35108</td>\n",
       "      <td>3.0</td>\n",
       "      <td>Period 1</td>\n",
       "      <td>SOURCE_USER 61</td>\n",
       "      <td>POST_USER 60</td>\n",
       "      <td>0.994410</td>\n",
       "    </tr>\n",
       "    <tr>\n",
       "      <th>7</th>\n",
       "      <td>GL account 197</td>\n",
       "      <td>Journal 1</td>\n",
       "      <td>Account No 28428</td>\n",
       "      <td>BAT_NAME 35108</td>\n",
       "      <td>4.0</td>\n",
       "      <td>Period 1</td>\n",
       "      <td>SOURCE_USER 61</td>\n",
       "      <td>POST_USER 60</td>\n",
       "      <td>0.805815</td>\n",
       "    </tr>\n",
       "    <tr>\n",
       "      <th>8</th>\n",
       "      <td>GL account 197</td>\n",
       "      <td>Journal 1</td>\n",
       "      <td>Account No 28428</td>\n",
       "      <td>BAT_NAME 35108</td>\n",
       "      <td>5.0</td>\n",
       "      <td>Period 1</td>\n",
       "      <td>SOURCE_USER 61</td>\n",
       "      <td>POST_USER 60</td>\n",
       "      <td>1.769364</td>\n",
       "    </tr>\n",
       "    <tr>\n",
       "      <th>9</th>\n",
       "      <td>GL account 197</td>\n",
       "      <td>Journal 1</td>\n",
       "      <td>Account No 28428</td>\n",
       "      <td>BAT_NAME 35108</td>\n",
       "      <td>6.0</td>\n",
       "      <td>Period 1</td>\n",
       "      <td>SOURCE_USER 61</td>\n",
       "      <td>POST_USER 60</td>\n",
       "      <td>-1.769364</td>\n",
       "    </tr>\n",
       "    <tr>\n",
       "      <th>10</th>\n",
       "      <td>GL account 197</td>\n",
       "      <td>Journal 1</td>\n",
       "      <td>Account No 28428</td>\n",
       "      <td>BAT_NAME 35108</td>\n",
       "      <td>8.0</td>\n",
       "      <td>Period 1</td>\n",
       "      <td>SOURCE_USER 61</td>\n",
       "      <td>POST_USER 60</td>\n",
       "      <td>-0.805815</td>\n",
       "    </tr>\n",
       "    <tr>\n",
       "      <th>...</th>\n",
       "      <td>...</td>\n",
       "      <td>...</td>\n",
       "      <td>...</td>\n",
       "      <td>...</td>\n",
       "      <td>...</td>\n",
       "      <td>...</td>\n",
       "      <td>...</td>\n",
       "      <td>...</td>\n",
       "      <td>...</td>\n",
       "    </tr>\n",
       "    <tr>\n",
       "      <th>877680</th>\n",
       "      <td>GL account 629</td>\n",
       "      <td>Journal 1</td>\n",
       "      <td>Account No 24466</td>\n",
       "      <td>BAT_NAME 513075</td>\n",
       "      <td>6.0</td>\n",
       "      <td>Period 12</td>\n",
       "      <td>SOURCE_USER 61</td>\n",
       "      <td>POST_USER 60</td>\n",
       "      <td>0.278126</td>\n",
       "    </tr>\n",
       "    <tr>\n",
       "      <th>877682</th>\n",
       "      <td>GL account 629</td>\n",
       "      <td>Journal 1</td>\n",
       "      <td>Account No 24466</td>\n",
       "      <td>BAT_NAME 513101</td>\n",
       "      <td>18.0</td>\n",
       "      <td>Period 12</td>\n",
       "      <td>SOURCE_USER 61</td>\n",
       "      <td>POST_USER 60</td>\n",
       "      <td>1.666494</td>\n",
       "    </tr>\n",
       "    <tr>\n",
       "      <th>877684</th>\n",
       "      <td>GL account 629</td>\n",
       "      <td>Journal 1</td>\n",
       "      <td>Account No 24466</td>\n",
       "      <td>BAT_NAME 513121</td>\n",
       "      <td>5.0</td>\n",
       "      <td>Period 12</td>\n",
       "      <td>SOURCE_USER 61</td>\n",
       "      <td>POST_USER 60</td>\n",
       "      <td>0.004972</td>\n",
       "    </tr>\n",
       "    <tr>\n",
       "      <th>877688</th>\n",
       "      <td>GL account 629</td>\n",
       "      <td>Journal 1</td>\n",
       "      <td>Account No 24466</td>\n",
       "      <td>BAT_NAME 513063</td>\n",
       "      <td>7.0</td>\n",
       "      <td>Period 12</td>\n",
       "      <td>SOURCE_USER 61</td>\n",
       "      <td>POST_USER 60</td>\n",
       "      <td>0.160134</td>\n",
       "    </tr>\n",
       "    <tr>\n",
       "      <th>877693</th>\n",
       "      <td>GL account 629</td>\n",
       "      <td>Journal 1</td>\n",
       "      <td>Account No 24466</td>\n",
       "      <td>BAT_NAME 513224</td>\n",
       "      <td>9.0</td>\n",
       "      <td>Period 12</td>\n",
       "      <td>SOURCE_USER 61</td>\n",
       "      <td>POST_USER 60</td>\n",
       "      <td>8.812530</td>\n",
       "    </tr>\n",
       "  </tbody>\n",
       "</table>\n",
       "<p>639633 rows × 9 columns</p>\n",
       "</div>"
      ],
      "text/plain": [
       "            GL account    Journal        Account No         BAT_NAME  JNL_LNE  \\\n",
       "6       GL account 197  Journal 1  Account No 28428   BAT_NAME 35108      3.0   \n",
       "7       GL account 197  Journal 1  Account No 28428   BAT_NAME 35108      4.0   \n",
       "8       GL account 197  Journal 1  Account No 28428   BAT_NAME 35108      5.0   \n",
       "9       GL account 197  Journal 1  Account No 28428   BAT_NAME 35108      6.0   \n",
       "10      GL account 197  Journal 1  Account No 28428   BAT_NAME 35108      8.0   \n",
       "...                ...        ...               ...              ...      ...   \n",
       "877680  GL account 629  Journal 1  Account No 24466  BAT_NAME 513075      6.0   \n",
       "877682  GL account 629  Journal 1  Account No 24466  BAT_NAME 513101     18.0   \n",
       "877684  GL account 629  Journal 1  Account No 24466  BAT_NAME 513121      5.0   \n",
       "877688  GL account 629  Journal 1  Account No 24466  BAT_NAME 513063      7.0   \n",
       "877693  GL account 629  Journal 1  Account No 24466  BAT_NAME 513224      9.0   \n",
       "\n",
       "           Period     SOURCE_USER     POST_USER    Amount  \n",
       "6        Period 1  SOURCE_USER 61  POST_USER 60  0.994410  \n",
       "7        Period 1  SOURCE_USER 61  POST_USER 60  0.805815  \n",
       "8        Period 1  SOURCE_USER 61  POST_USER 60  1.769364  \n",
       "9        Period 1  SOURCE_USER 61  POST_USER 60 -1.769364  \n",
       "10       Period 1  SOURCE_USER 61  POST_USER 60 -0.805815  \n",
       "...           ...             ...           ...       ...  \n",
       "877680  Period 12  SOURCE_USER 61  POST_USER 60  0.278126  \n",
       "877682  Period 12  SOURCE_USER 61  POST_USER 60  1.666494  \n",
       "877684  Period 12  SOURCE_USER 61  POST_USER 60  0.004972  \n",
       "877688  Period 12  SOURCE_USER 61  POST_USER 60  0.160134  \n",
       "877693  Period 12  SOURCE_USER 61  POST_USER 60  8.812530  \n",
       "\n",
       "[639633 rows x 9 columns]"
      ]
     },
     "execution_count": 14,
     "metadata": {},
     "output_type": "execute_result"
    }
   ],
   "source": [
    "anomaly_journal = data.loc[data['BAT_NAME'].isin(BAT_NAME_LIST)]\n",
    "anomaly_journal"
   ]
  },
  {
   "cell_type": "markdown",
   "metadata": {},
   "source": [
    "### Save the Anomalous transactions in a new csv file"
   ]
  },
  {
   "cell_type": "code",
   "execution_count": 17,
   "metadata": {},
   "outputs": [],
   "source": [
    "anomaly_journal.to_csv('JET_DATA_0_anomalous.csv', index=False)"
   ]
  },
  {
   "cell_type": "markdown",
   "metadata": {},
   "source": [
    "### Inspect the `anomaly_journal` dataframe to investigate what is wrong with the anomalous transactions "
   ]
  },
  {
   "cell_type": "code",
   "execution_count": 16,
   "metadata": {},
   "outputs": [
    {
     "data": {
      "text/html": [
       "<div>\n",
       "<style scoped>\n",
       "    .dataframe tbody tr th:only-of-type {\n",
       "        vertical-align: middle;\n",
       "    }\n",
       "\n",
       "    .dataframe tbody tr th {\n",
       "        vertical-align: top;\n",
       "    }\n",
       "\n",
       "    .dataframe thead th {\n",
       "        text-align: right;\n",
       "    }\n",
       "</style>\n",
       "<table border=\"1\" class=\"dataframe\">\n",
       "  <thead>\n",
       "    <tr style=\"text-align: right;\">\n",
       "      <th></th>\n",
       "      <th>GL account</th>\n",
       "      <th>Journal</th>\n",
       "      <th>Account No</th>\n",
       "      <th>BAT_NAME</th>\n",
       "      <th>JNL_LNE</th>\n",
       "      <th>Period</th>\n",
       "      <th>SOURCE_USER</th>\n",
       "      <th>POST_USER</th>\n",
       "      <th>Amount</th>\n",
       "    </tr>\n",
       "  </thead>\n",
       "  <tbody>\n",
       "    <tr>\n",
       "      <th>0</th>\n",
       "      <td>GL account 197</td>\n",
       "      <td>Journal 1</td>\n",
       "      <td>Account No 28428</td>\n",
       "      <td>BAT_NAME 35108</td>\n",
       "      <td>3.0</td>\n",
       "      <td>Period 1</td>\n",
       "      <td>SOURCE_USER 61</td>\n",
       "      <td>POST_USER 60</td>\n",
       "      <td>0.994410</td>\n",
       "    </tr>\n",
       "    <tr>\n",
       "      <th>1</th>\n",
       "      <td>GL account 197</td>\n",
       "      <td>Journal 1</td>\n",
       "      <td>Account No 28428</td>\n",
       "      <td>BAT_NAME 35108</td>\n",
       "      <td>4.0</td>\n",
       "      <td>Period 1</td>\n",
       "      <td>SOURCE_USER 61</td>\n",
       "      <td>POST_USER 60</td>\n",
       "      <td>0.805815</td>\n",
       "    </tr>\n",
       "    <tr>\n",
       "      <th>2</th>\n",
       "      <td>GL account 197</td>\n",
       "      <td>Journal 1</td>\n",
       "      <td>Account No 28428</td>\n",
       "      <td>BAT_NAME 35108</td>\n",
       "      <td>5.0</td>\n",
       "      <td>Period 1</td>\n",
       "      <td>SOURCE_USER 61</td>\n",
       "      <td>POST_USER 60</td>\n",
       "      <td>1.769364</td>\n",
       "    </tr>\n",
       "    <tr>\n",
       "      <th>3</th>\n",
       "      <td>GL account 197</td>\n",
       "      <td>Journal 1</td>\n",
       "      <td>Account No 28428</td>\n",
       "      <td>BAT_NAME 35108</td>\n",
       "      <td>6.0</td>\n",
       "      <td>Period 1</td>\n",
       "      <td>SOURCE_USER 61</td>\n",
       "      <td>POST_USER 60</td>\n",
       "      <td>-1.769364</td>\n",
       "    </tr>\n",
       "    <tr>\n",
       "      <th>4</th>\n",
       "      <td>GL account 197</td>\n",
       "      <td>Journal 1</td>\n",
       "      <td>Account No 28428</td>\n",
       "      <td>BAT_NAME 35108</td>\n",
       "      <td>8.0</td>\n",
       "      <td>Period 1</td>\n",
       "      <td>SOURCE_USER 61</td>\n",
       "      <td>POST_USER 60</td>\n",
       "      <td>-0.805815</td>\n",
       "    </tr>\n",
       "    <tr>\n",
       "      <th>5</th>\n",
       "      <td>GL account 197</td>\n",
       "      <td>Journal 1</td>\n",
       "      <td>Account No 28428</td>\n",
       "      <td>BAT_NAME 35108</td>\n",
       "      <td>9.0</td>\n",
       "      <td>Period 1</td>\n",
       "      <td>SOURCE_USER 61</td>\n",
       "      <td>POST_USER 60</td>\n",
       "      <td>-0.994410</td>\n",
       "    </tr>\n",
       "    <tr>\n",
       "      <th>6</th>\n",
       "      <td>GL account 629</td>\n",
       "      <td>Journal 1</td>\n",
       "      <td>Account No 28235</td>\n",
       "      <td>BAT_NAME 35108</td>\n",
       "      <td>7.0</td>\n",
       "      <td>Period 1</td>\n",
       "      <td>SOURCE_USER 61</td>\n",
       "      <td>POST_USER 60</td>\n",
       "      <td>3.569589</td>\n",
       "    </tr>\n",
       "    <tr>\n",
       "      <th>7</th>\n",
       "      <td>GL account 779</td>\n",
       "      <td>Journal 1</td>\n",
       "      <td>Account No 28248</td>\n",
       "      <td>BAT_NAME 35108</td>\n",
       "      <td>11.0</td>\n",
       "      <td>Period 1</td>\n",
       "      <td>SOURCE_USER 61</td>\n",
       "      <td>POST_USER 60</td>\n",
       "      <td>-3.926548</td>\n",
       "    </tr>\n",
       "    <tr>\n",
       "      <th>8</th>\n",
       "      <td>GL account 539</td>\n",
       "      <td>Journal 1</td>\n",
       "      <td>Account No 28215</td>\n",
       "      <td>BAT_NAME 35108</td>\n",
       "      <td>2.0</td>\n",
       "      <td>Period 1</td>\n",
       "      <td>SOURCE_USER 61</td>\n",
       "      <td>POST_USER 60</td>\n",
       "      <td>0.356959</td>\n",
       "    </tr>\n",
       "    <tr>\n",
       "      <th>9</th>\n",
       "      <td>GL account 779</td>\n",
       "      <td>Journal 1</td>\n",
       "      <td>Account No 48169</td>\n",
       "      <td>BAT_NAME 35108</td>\n",
       "      <td>10.0</td>\n",
       "      <td>Period 1</td>\n",
       "      <td>SOURCE_USER 61</td>\n",
       "      <td>POST_USER 60</td>\n",
       "      <td>3.926548</td>\n",
       "    </tr>\n",
       "    <tr>\n",
       "      <th>10</th>\n",
       "      <td>GL account 628</td>\n",
       "      <td>Journal 1</td>\n",
       "      <td>Account No 48083</td>\n",
       "      <td>BAT_NAME 35108</td>\n",
       "      <td>92000001.0</td>\n",
       "      <td>Period 1</td>\n",
       "      <td>SOURCE_USER 61</td>\n",
       "      <td>POST_USER 60</td>\n",
       "      <td>-3.926548</td>\n",
       "    </tr>\n",
       "  </tbody>\n",
       "</table>\n",
       "</div>"
      ],
      "text/plain": [
       "        GL account    Journal        Account No        BAT_NAME     JNL_LNE  \\\n",
       "0   GL account 197  Journal 1  Account No 28428  BAT_NAME 35108         3.0   \n",
       "1   GL account 197  Journal 1  Account No 28428  BAT_NAME 35108         4.0   \n",
       "2   GL account 197  Journal 1  Account No 28428  BAT_NAME 35108         5.0   \n",
       "3   GL account 197  Journal 1  Account No 28428  BAT_NAME 35108         6.0   \n",
       "4   GL account 197  Journal 1  Account No 28428  BAT_NAME 35108         8.0   \n",
       "5   GL account 197  Journal 1  Account No 28428  BAT_NAME 35108         9.0   \n",
       "6   GL account 629  Journal 1  Account No 28235  BAT_NAME 35108         7.0   \n",
       "7   GL account 779  Journal 1  Account No 28248  BAT_NAME 35108        11.0   \n",
       "8   GL account 539  Journal 1  Account No 28215  BAT_NAME 35108         2.0   \n",
       "9   GL account 779  Journal 1  Account No 48169  BAT_NAME 35108        10.0   \n",
       "10  GL account 628  Journal 1  Account No 48083  BAT_NAME 35108  92000001.0   \n",
       "\n",
       "      Period     SOURCE_USER     POST_USER    Amount  \n",
       "0   Period 1  SOURCE_USER 61  POST_USER 60  0.994410  \n",
       "1   Period 1  SOURCE_USER 61  POST_USER 60  0.805815  \n",
       "2   Period 1  SOURCE_USER 61  POST_USER 60  1.769364  \n",
       "3   Period 1  SOURCE_USER 61  POST_USER 60 -1.769364  \n",
       "4   Period 1  SOURCE_USER 61  POST_USER 60 -0.805815  \n",
       "5   Period 1  SOURCE_USER 61  POST_USER 60 -0.994410  \n",
       "6   Period 1  SOURCE_USER 61  POST_USER 60  3.569589  \n",
       "7   Period 1  SOURCE_USER 61  POST_USER 60 -3.926548  \n",
       "8   Period 1  SOURCE_USER 61  POST_USER 60  0.356959  \n",
       "9   Period 1  SOURCE_USER 61  POST_USER 60  3.926548  \n",
       "10  Period 1  SOURCE_USER 61  POST_USER 60 -3.926548  "
      ]
     },
     "execution_count": 16,
     "metadata": {},
     "output_type": "execute_result"
    }
   ],
   "source": [
    "anomaly_journal[anomaly_journal['BAT_NAME']=='BAT_NAME 35108'].reset_index(drop=True)"
   ]
  },
  {
   "cell_type": "markdown",
   "metadata": {},
   "source": [
    "## Create a Funtion to automatically perform the anomaly detection for all the Data"
   ]
  },
  {
   "cell_type": "code",
   "execution_count": 25,
   "metadata": {},
   "outputs": [],
   "source": [
    "def find_anomaly(path_list):\n",
    "    \n",
    "\n",
    "    for path in path_list:\n",
    "\n",
    "        data = pd.read_csv(path, low_memory=False)\n",
    "        features = ['GL account','Journal','Account No','BAT_NAME','JNL_LNE','Period','SOURCE_USER','POST_USER','Amount']\n",
    "        data = data[features]\n",
    "\n",
    "        data = data.dropna().reset_index(drop=True)\n",
    "        new_data = data[['BAT_NAME','Amount']]\n",
    "\n",
    "        Amount_sum = new_data.groupby('BAT_NAME',as_index=False, sort=False).sum()\n",
    "        amount_not_zero = Amount_sum[Amount_sum['Amount']!=0]\n",
    "\n",
    "        anomaly_journal = data.loc[data['BAT_NAME'].isin(list(amount_not_zero['BAT_NAME']))]\n",
    "\n",
    "        new_name = path.split('.')[0]+'_anomalous.csv'\n",
    "\n",
    "        anomaly_journal.to_csv(new_name, index=False)\n",
    "#     except:\n",
    "#         print(\"Please check the path_list that you provided and ensure it is correct and a string data type\")\n",
    "        \n",
    "        \n",
    "    "
   ]
  },
  {
   "cell_type": "markdown",
   "metadata": {},
   "source": [
    "### Testing the function"
   ]
  },
  {
   "cell_type": "code",
   "execution_count": 26,
   "metadata": {},
   "outputs": [],
   "source": [
    "path_list = ['JET_CSV_DATA/JET_CSV_DATA/JET_DATA_0.csv','JET_CSV_DATA/JET_CSV_DATA/JET_DATA_1.csv']"
   ]
  },
  {
   "cell_type": "code",
   "execution_count": 27,
   "metadata": {},
   "outputs": [],
   "source": [
    "find_anomaly(path_list)"
   ]
  },
  {
   "cell_type": "code",
   "execution_count": null,
   "metadata": {},
   "outputs": [],
   "source": []
  },
  {
   "cell_type": "code",
   "execution_count": null,
   "metadata": {},
   "outputs": [],
   "source": []
  }
 ],
 "metadata": {
  "kernelspec": {
   "display_name": "Python 3",
   "language": "python",
   "name": "python3"
  },
  "language_info": {
   "codemirror_mode": {
    "name": "ipython",
    "version": 3
   },
   "file_extension": ".py",
   "mimetype": "text/x-python",
   "name": "python",
   "nbconvert_exporter": "python",
   "pygments_lexer": "ipython3",
   "version": "3.8.6"
  }
 },
 "nbformat": 4,
 "nbformat_minor": 4
}
